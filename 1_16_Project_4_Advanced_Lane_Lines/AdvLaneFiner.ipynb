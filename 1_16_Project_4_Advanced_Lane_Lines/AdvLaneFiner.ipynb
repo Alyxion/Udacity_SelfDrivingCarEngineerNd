{
 "cells": [
  {
   "cell_type": "markdown",
   "metadata": {},
   "source": [
    "# Advanced Lane Finding - Project 4 of Udacity's Self-Driving Car Nanodegree\n",
    "\n",
    "1. Camera Calibration\n",
    "2. Distortion correction\n",
    "3. Image inspection\n",
    "4. Perspective correction"
   ]
  },
  {
   "cell_type": "markdown",
   "metadata": {},
   "source": [
    "## 1. Camera Calibration"
   ]
  },
  {
   "cell_type": "code",
   "execution_count": null,
   "metadata": {},
   "outputs": [],
   "source": [
    "import numpy as np\n",
    "import cv2\n",
    "import glob\n",
    "import matplotlib.pyplot as plt\n",
    "%matplotlib inline\n",
    "\n",
    "# prepare object points, like (0,0,0), (1,0,0), (2,0,0) ....,(6,5,0)\n",
    "objp = np.zeros((6*9,3), np.float32)\n",
    "objp[:,:2] = np.mgrid[0:9,0:6].T.reshape(-1,2)\n",
    "\n",
    "# Arrays to store object points and image points from all the images.\n",
    "objpoints = [] # 3d points in real world space\n",
    "imgpoints = [] # 2d points in image plane.\n",
    "\n",
    "# Make a list of calibration images\n",
    "images = glob.glob('camera_cal/calibration*.jpg')\n",
    "\n",
    "col_count = 3\n",
    "row_count = 7\n",
    "fig = plt.figure(figsize=(16,32))\n",
    "\n",
    "index = 0\n",
    "\n",
    "# Step throuagh the list and search for chessboard corners\n",
    "for fname in images:\n",
    "    img = cv2.imread(fname)\n",
    "    gray = cv2.cvtColor(img,cv2.COLOR_BGR2GRAY)\n",
    "\n",
    "    # Find the chessboard corners\n",
    "    ret, corners = cv2.findChessboardCorners(gray, (9,6),None)\n",
    "\n",
    "    # If found, add object points, image points\n",
    "    if ret == True:\n",
    "        objpoints.append(objp)\n",
    "        imgpoints.append(corners)\n",
    "\n",
    "        # Draw and display the corners\n",
    "        img = cv2.drawChessboardCorners(img, (9,6), corners, ret)\n",
    "        sp = fig.add_subplot(row_count, col_count, index+1)\n",
    "        plt.imshow(img)\n",
    "        index += 1\n",
    "\n",
    "plt.show()"
   ]
  },
  {
   "cell_type": "code",
   "execution_count": null,
   "metadata": {},
   "outputs": [],
   "source": [
    "ret, mtx, dist, rvecs, tvecs = cv2.calibrateCamera(objpoints, imgpoints, gray.shape[::-1], None, None)"
   ]
  },
  {
   "cell_type": "markdown",
   "metadata": {},
   "source": [
    "## 2. Distortion Correction"
   ]
  },
  {
   "cell_type": "code",
   "execution_count": null,
   "metadata": {},
   "outputs": [],
   "source": [
    "images = glob.glob('camera_cal/calibration*.jpg')\n",
    "\n",
    "fig = plt.figure(figsize=(16,32))\n",
    "index = 0\n",
    "\n",
    "# Step through the list and search for chessboard corners\n",
    "for fname in images:\n",
    "    img = cv2.imread(fname)\n",
    "    img = cv2.cvtColor(img, cv2.COLOR_BGR2RGB)\n",
    "    img = cv2.undistort(img, mtx, dist, None, mtx)\n",
    "    sp = fig.add_subplot(row_count, col_count, index+1)\n",
    "    plt.imshow(img)\n",
    "    index += 1\n",
    "\n",
    "plt.show()"
   ]
  },
  {
   "cell_type": "markdown",
   "metadata": {},
   "source": [
    "## 3. Example image inspection"
   ]
  },
  {
   "cell_type": "code",
   "execution_count": null,
   "metadata": {},
   "outputs": [],
   "source": [
    "# Make a list of calibration images\n",
    "images = glob.glob('test_images/*.jpg')\n",
    "examples_images = images\n",
    "\n",
    "col_count = 2\n",
    "row_count = 8\n",
    "fig = plt.figure(figsize=(20,50))\n",
    "\n",
    "index = 0\n",
    "\n",
    "example_image = None\n",
    "\n",
    "# Step through the list and search for chessboard corners\n",
    "for fname in images:\n",
    "    img = cv2.imread(fname)\n",
    "    img = cv2.cvtColor(img, cv2.COLOR_BGR2RGB)\n",
    "    sp = fig.add_subplot(row_count, col_count, index*2+1)\n",
    "    plt.imshow(img)\n",
    "    img = cv2.undistort(img, mtx, dist, None, mtx)\n",
    "    sp = fig.add_subplot(row_count, col_count, index*2+2)\n",
    "    plt.imshow(img)\n",
    "    example_image = img\n",
    "    index += 1\n",
    "\n",
    "plt.show()"
   ]
  },
  {
   "cell_type": "markdown",
   "metadata": {},
   "source": [
    "# 4. Perspective correction"
   ]
  },
  {
   "cell_type": "code",
   "execution_count": null,
   "metadata": {},
   "outputs": [],
   "source": [
    "img_size = (example_image.shape[1],example_image.shape[0])\n",
    "\n",
    "# defines the perspective of the camera image by defining points near the front of the car and close the the\n",
    "# center of the image\n",
    "relation_factor = 13.5/2.8\n",
    "front_perspective_div = 3.5\n",
    "back_perspective_div = front_perspective_div*relation_factor\n",
    "front_perspective_y_perc = 0.92\n",
    "back_perspective_y_perc = 0.65\n",
    "\n",
    "# trapez points in order bottom left, top left, top right, bottom right (front, back, back, front)\n",
    "src = [(int(img_size[0]/2-img_size[0]/front_perspective_div), int(img_size[1]*front_perspective_y_perc)), \n",
    "       (int(img_size[0]/2-img_size[0]/back_perspective_div), int(img_size[1]*back_perspective_y_perc)), \n",
    "       (int(img_size[0]/2+img_size[0]/back_perspective_div), int(img_size[1]*back_perspective_y_perc)),\n",
    "       (int(img_size[0]/2+img_size[0]/front_perspective_div), int(img_size[1]*front_perspective_y_perc))]\n",
    "\n",
    "# paint trapez into the image\n",
    "image_copy = np.copy(example_image)\n",
    "\n",
    "for index in range(4):\n",
    "    pa = src[index]\n",
    "    pb = src[(index+1)%4]\n",
    "    cv2.line(image_copy, pa, pb, (255,0,0), 4)\n",
    "\n",
    "fig = plt.figure(figsize=(20,20))\n",
    "plt.imshow(image_copy)\n",
    "\n",
    "margin_factor = 3\n",
    "\n",
    "dst = [(img_size[0]//margin_factor, img_size[1]), \n",
    "       (img_size[0]//margin_factor, 0), \n",
    "       (img_size[0]-img_size[0]//margin_factor, 0), \n",
    "       (img_size[0]-img_size[0]//margin_factor, img_size[1]), \n",
    "       ]\n",
    "\n",
    "src = np.array(src, dtype=np.float32)\n",
    "dst = np.array(dst, dtype=np.float32)\n",
    "\n",
    "tmx = cv2.getPerspectiveTransform(np.array(src), np.array(dst))"
   ]
  },
  {
   "cell_type": "code",
   "execution_count": null,
   "metadata": {},
   "outputs": [],
   "source": [
    "width = image_copy.shape[1]\n",
    "height = image_copy.shape[0]\n",
    "\n",
    "warped = cv2.warpPerspective(example_image, tmx, (width, height))\n",
    "\n",
    "fig = plt.figure(figsize=(20,20))\n",
    "plt.imshow(warped)"
   ]
  },
  {
   "cell_type": "code",
   "execution_count": null,
   "metadata": {},
   "outputs": [],
   "source": [
    "from moviepy.editor import VideoFileClip\n",
    "from IPython.display import HTML\n",
    "\n",
    "project_video = \"project_video.mp4\"\n",
    "\n",
    "HTML(\"\"\"\n",
    "<video width=\"960\" height=\"540\" controls>\n",
    "  <source src=\"{0}\">\n",
    "</video>\n",
    "\"\"\".format(project_video))"
   ]
  },
  {
   "cell_type": "markdown",
   "metadata": {},
   "source": [
    "### Video of the project video after distortion and perspective correction"
   ]
  },
  {
   "cell_type": "code",
   "execution_count": null,
   "metadata": {},
   "outputs": [],
   "source": [
    "def process_image(image):\n",
    "    undistorted = cv2.undistort(image, mtx, dist, None, mtx)\n",
    "    warped = cv2.warpPerspective(undistorted, tmx, (width, height))\n",
    "    return warped\n",
    "    \n",
    "from_above_video = 'test_videos_output/from_above.mp4'\n",
    "\n",
    "white_output = from_above_video\n",
    "clip1 = VideoFileClip(project_video)\n",
    "white_clip = clip1.fl_image(process_image)\n",
    "%time white_clip.write_videofile(white_output, audio=False)\n",
    "\n",
    "HTML(\"\"\"\n",
    "<video width=\"960\" height=\"540\" controls>\n",
    "  <source src=\"{0}\">\n",
    "</video>\n",
    "\"\"\".format(from_above_video))"
   ]
  },
  {
   "cell_type": "code",
   "execution_count": null,
   "metadata": {},
   "outputs": [],
   "source": []
  }
 ],
 "metadata": {
  "kernelspec": {
   "display_name": "Python [conda env:deepl35]",
   "language": "python",
   "name": "conda-env-deepl35-py"
  },
  "language_info": {
   "codemirror_mode": {
    "name": "ipython",
    "version": 3
   },
   "file_extension": ".py",
   "mimetype": "text/x-python",
   "name": "python",
   "nbconvert_exporter": "python",
   "pygments_lexer": "ipython3",
   "version": "3.5.4"
  }
 },
 "nbformat": 4,
 "nbformat_minor": 2
}
