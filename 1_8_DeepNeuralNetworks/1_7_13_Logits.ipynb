{
 "cells": [
  {
   "cell_type": "code",
   "execution_count": 1,
   "metadata": {},
   "outputs": [],
   "source": [
    "import numpy as np"
   ]
  },
  {
   "cell_type": "code",
   "execution_count": 6,
   "metadata": {},
   "outputs": [
    {
     "name": "stdout",
     "output_type": "stream",
     "text": [
      "(2, 3)\n",
      "(3, 1)\n",
      "(2, 1)\n",
      "[[ 0.16]\n",
      " [ 0.06]]\n"
     ]
    }
   ],
   "source": [
    "W = np.array([[-0.5, 0.2, 0.1], [0.7, -0.8, 0.2]])\n",
    "X = np.array([0.2, 0.5, 0.6]).reshape(-1,1)\n",
    "b = np.array([0.1, 0.2]).reshape(-1,1)\n",
    "\n",
    "print(W.shape)\n",
    "print(X.shape)\n",
    "print(b.shape)\n",
    "\n",
    "y = np.dot(W,X)+b\n",
    "print(y)"
   ]
  },
  {
   "cell_type": "code",
   "execution_count": null,
   "metadata": {},
   "outputs": [],
   "source": []
  }
 ],
 "metadata": {
  "kernelspec": {
   "display_name": "Python [conda env:deepl35]",
   "language": "python",
   "name": "conda-env-deepl35-py"
  },
  "language_info": {
   "codemirror_mode": {
    "name": "ipython",
    "version": 3
   },
   "file_extension": ".py",
   "mimetype": "text/x-python",
   "name": "python",
   "nbconvert_exporter": "python",
   "pygments_lexer": "ipython3",
   "version": "3.5.4"
  }
 },
 "nbformat": 4,
 "nbformat_minor": 2
}
