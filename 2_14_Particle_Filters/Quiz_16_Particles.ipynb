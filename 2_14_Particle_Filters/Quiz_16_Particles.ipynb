{
 "cells": [
  {
   "cell_type": "markdown",
   "metadata": {},
   "source": [
    "OBS1 is the sensor observation reported from the sensor. As noted in the figure, OBS1 is (2,2). What is the position of OBS1 in map coordinates (x_map,y_map)? Enter your answer in parenthesis with the x value separated from the y value with a comma and no spaces."
   ]
  },
  {
   "cell_type": "code",
   "execution_count": 5,
   "metadata": {},
   "outputs": [
    {
     "name": "stdout",
     "output_type": "stream",
     "text": [
      "6.0 3.0\n"
     ]
    }
   ],
   "source": [
    "import numpy as np\n",
    "\n",
    "# define coordinates and theta\n",
    "x_part= 4\n",
    "y_part= 5\n",
    "x_obs= 2\n",
    "y_obs= 2\n",
    "theta= -np.pi/2 # -90 degrees\n",
    "\n",
    "# transform to map x coordinate\n",
    "x_map= x_part + (np.cos(theta) * x_obs) - (np.sin(theta) * y_obs)\n",
    "\n",
    "# transform to map y coordinate\n",
    "y_map= y_part + (np.sin(theta) * x_obs) + (np.cos(theta) * y_obs)\n",
    "\n",
    "print(x_map, y_map) # (6,3)"
   ]
  },
  {
   "cell_type": "markdown",
   "metadata": {},
   "source": [
    "OBS2 is the sensor observation reported from the sensor. As noted in the figure, OBS2 is (3,-2). What is the position of OBS2 in map coordinates (x_map,y_map)? Enter your answer in parenthesis with the x value separated from the y value with a comma and no spaces."
   ]
  },
  {
   "cell_type": "code",
   "execution_count": 4,
   "metadata": {},
   "outputs": [
    {
     "name": "stdout",
     "output_type": "stream",
     "text": [
      "2.0 2.0\n"
     ]
    }
   ],
   "source": [
    "x_obs= 3\n",
    "y_obs= -2\n",
    "theta= -np.pi/2 # -90 degrees\n",
    "\n",
    "# transform to map x coordinate\n",
    "x_map= x_part + (np.cos(theta) * x_obs) - (np.sin(theta) * y_obs)\n",
    "\n",
    "# transform to map y coordinate\n",
    "y_map= y_part + (np.sin(theta) * x_obs) + (np.cos(theta) * y_obs)\n",
    "\n",
    "print(x_map, y_map) # (2,2)"
   ]
  },
  {
   "cell_type": "code",
   "execution_count": 6,
   "metadata": {},
   "outputs": [
    {
     "name": "stdout",
     "output_type": "stream",
     "text": [
      "0.0 5.0\n"
     ]
    }
   ],
   "source": [
    "x_obs= 0\n",
    "y_obs= -4\n",
    "theta= -np.pi/2 # -90 degrees\n",
    "\n",
    "# transform to map x coordinate\n",
    "x_map= x_part + (np.cos(theta) * x_obs) - (np.sin(theta) * y_obs)\n",
    "\n",
    "# transform to map y coordinate\n",
    "y_map= y_part + (np.sin(theta) * x_obs) + (np.cos(theta) * y_obs)\n",
    "\n",
    "print(x_map, y_map) # (2,2)"
   ]
  },
  {
   "cell_type": "code",
   "execution_count": null,
   "metadata": {},
   "outputs": [],
   "source": []
  }
 ],
 "metadata": {
  "anaconda-cloud": {},
  "kernelspec": {
   "display_name": "Python [conda env:deepl35]",
   "language": "python",
   "name": "conda-env-deepl35-py"
  },
  "language_info": {
   "codemirror_mode": {
    "name": "ipython",
    "version": 3
   },
   "file_extension": ".py",
   "mimetype": "text/x-python",
   "name": "python",
   "nbconvert_exporter": "python",
   "pygments_lexer": "ipython3",
   "version": "3.5.4"
  }
 },
 "nbformat": 4,
 "nbformat_minor": 2
}
