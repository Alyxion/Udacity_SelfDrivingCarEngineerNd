{
 "cells": [
  {
   "cell_type": "code",
   "execution_count": 6,
   "metadata": {},
   "outputs": [
    {
     "name": "stdout",
     "output_type": "stream",
     "text": [
      "0.006836447775506742\n"
     ]
    }
   ],
   "source": [
    "import math\n",
    "import numpy as np\n",
    "\n",
    "# define inputs\n",
    "sig_x= 0.3\n",
    "sig_y= 0.3\n",
    "x_obs= 6 # Observation in map coordinates\n",
    "y_obs= 3\n",
    "mu_x= 5 # Assumed matching landmark L1\n",
    "mu_y= 3\n",
    "\n",
    "# calculate normalization term\n",
    "gauss_norm= (1/(2 * np.pi * sig_x * sig_y))\n",
    "\n",
    "# calculate exponent\n",
    "exponent= ((x_obs - mu_x)**2)/(2 * sig_x**2) + ((y_obs - mu_y)**2)/(2 * sig_y**2)\n",
    "\n",
    "# calculate weight using normalization terms and exponent\n",
    "weight= gauss_norm * math.exp(-exponent)\n",
    "\n",
    "print(weight) # should be around 0.00683644777551 rounding to 6.84E-3"
   ]
  },
  {
   "cell_type": "code",
   "execution_count": 7,
   "metadata": {},
   "outputs": [
    {
     "name": "stdout",
     "output_type": "stream",
     "text": [
      "0.006836447775506742\n"
     ]
    }
   ],
   "source": [
    "x_obs= 2 # Observation in map coordinates 2\n",
    "y_obs= 2\n",
    "mu_x= 2 # landmark L2\n",
    "mu_y= 1\n",
    "\n",
    "# calculate normalization term\n",
    "gauss_norm= (1/(2 * np.pi * sig_x * sig_y))\n",
    "\n",
    "# calculate exponent\n",
    "exponent= ((x_obs - mu_x)**2)/(2 * sig_x**2) + ((y_obs - mu_y)**2)/(2 * sig_y**2)\n",
    "\n",
    "# calculate weight using normalization terms and exponent\n",
    "weight2= gauss_norm * math.exp(-exponent)\n",
    "\n",
    "print(weight2) # should be around 0.00683644777551 rounding to 6.84E-3"
   ]
  },
  {
   "cell_type": "code",
   "execution_count": 8,
   "metadata": {},
   "outputs": [
    {
     "name": "stdout",
     "output_type": "stream",
     "text": [
      "9.831848741505932e-49\n"
     ]
    }
   ],
   "source": [
    "x_obs= 0.0 # Observation in map coordinates 3\n",
    "y_obs= 5.0\n",
    "mu_x= 4 # landmark L2\n",
    "mu_y= 7\n",
    "\n",
    "# calculate normalization term\n",
    "gauss_norm= (1/(2 * np.pi * sig_x * sig_y))\n",
    "\n",
    "# calculate exponent\n",
    "exponent= ((x_obs - mu_x)**2)/(2 * sig_x**2) + ((y_obs - mu_y)**2)/(2 * sig_y**2)\n",
    "\n",
    "# calculate weight using normalization terms and exponent\n",
    "weight3= gauss_norm * math.exp(-exponent)\n",
    "\n",
    "print(weight3) # should be around 0.00683644777551 rounding to 6.84E-3"
   ]
  },
  {
   "cell_type": "code",
   "execution_count": 9,
   "metadata": {},
   "outputs": [
    {
     "name": "stdout",
     "output_type": "stream",
     "text": [
      "4.595112934458678e-53\n"
     ]
    }
   ],
   "source": [
    "out_weight = weight*weight2*weight3\n",
    "print(out_weight)"
   ]
  },
  {
   "cell_type": "code",
   "execution_count": null,
   "metadata": {},
   "outputs": [],
   "source": []
  }
 ],
 "metadata": {
  "anaconda-cloud": {},
  "kernelspec": {
   "display_name": "Python [conda env:deepl35]",
   "language": "python",
   "name": "conda-env-deepl35-py"
  },
  "language_info": {
   "codemirror_mode": {
    "name": "ipython",
    "version": 3
   },
   "file_extension": ".py",
   "mimetype": "text/x-python",
   "name": "python",
   "nbconvert_exporter": "python",
   "pygments_lexer": "ipython3",
   "version": "3.5.4"
  }
 },
 "nbformat": 4,
 "nbformat_minor": 2
}
