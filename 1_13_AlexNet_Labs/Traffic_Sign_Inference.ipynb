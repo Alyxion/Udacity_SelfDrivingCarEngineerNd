{
 "cells": [
  {
   "cell_type": "code",
   "execution_count": 1,
   "metadata": {},
   "outputs": [
    {
     "name": "stdout",
     "output_type": "stream",
     "text": [
      "Image 0\n",
      "screen, CRT screen: 0.051\n",
      "digital clock: 0.041\n",
      "laptop, laptop computer: 0.030\n",
      "balance beam, beam: 0.027\n",
      "parallel bars, bars: 0.023\n",
      "\n",
      "Image 1\n",
      "digital watch: 0.395\n",
      "digital clock: 0.275\n",
      "bottlecap: 0.115\n",
      "stopwatch, stop watch: 0.104\n",
      "combination lock: 0.086\n",
      "\n",
      "Time: 0.395 seconds\n"
     ]
    }
   ],
   "source": [
    "\"\"\"\n",
    "The traffic signs are 32x32 so you\n",
    "have to resize them to be 227x227 before\n",
    "passing them to AlexNet.\n",
    "\"\"\"\n",
    "import time\n",
    "import tensorflow as tf\n",
    "import numpy as np\n",
    "from scipy.misc import imread\n",
    "from caffe_classes import class_names\n",
    "from alexnet import AlexNet\n",
    "\n",
    "x = tf.placeholder(tf.float32, (None, 32, 32, 3))\n",
    "# TODO: Resize the images so they can be fed into AlexNet.\n",
    "# HINT: Use `tf.image.resize_images` to resize the images\n",
    "x = tf.placeholder(tf.float32, (None, 32, 32, 3))\n",
    "resized = tf.image.resize_images(x, (227, 227))\n",
    "\n",
    "assert resized is not Ellipsis, \"resized needs to modify the placeholder image size to (227,227)\"\n",
    "probs = AlexNet(resized)\n",
    "\n",
    "init = tf.global_variables_initializer()\n",
    "sess = tf.Session()\n",
    "sess.run(init)\n",
    "\n",
    "# Read Images\n",
    "im1 = imread(\"construction.jpg\").astype(np.float32)\n",
    "im1 = im1 - np.mean(im1)\n",
    "\n",
    "im2 = imread(\"stop.jpg\").astype(np.float32)\n",
    "im2 = im2 - np.mean(im2)\n",
    "\n",
    "# Run Inference\n",
    "t = time.time()\n",
    "output = sess.run(probs, feed_dict={x: [im1, im2]})\n",
    "\n",
    "# Print Output\n",
    "for input_im_ind in range(output.shape[0]):\n",
    "    inds = np.argsort(output)[input_im_ind, :]\n",
    "    print(\"Image\", input_im_ind)\n",
    "    for i in range(5):\n",
    "        print(\"%s: %.3f\" % (class_names[inds[-1 - i]], output[input_im_ind, inds[-1 - i]]))\n",
    "    print()\n",
    "\n",
    "print(\"Time: %.3f seconds\" % (time.time() - t))\n"
   ]
  },
  {
   "cell_type": "code",
   "execution_count": null,
   "metadata": {},
   "outputs": [],
   "source": []
  }
 ],
 "metadata": {
  "kernelspec": {
   "display_name": "Python 3",
   "language": "python",
   "name": "python3"
  },
  "language_info": {
   "codemirror_mode": {
    "name": "ipython",
    "version": 3
   },
   "file_extension": ".py",
   "mimetype": "text/x-python",
   "name": "python",
   "nbconvert_exporter": "python",
   "pygments_lexer": "ipython3",
   "version": "3.5.2"
  }
 },
 "nbformat": 4,
 "nbformat_minor": 2
}
