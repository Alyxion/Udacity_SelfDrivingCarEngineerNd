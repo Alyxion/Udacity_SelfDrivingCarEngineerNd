{
 "cells": [
  {
   "cell_type": "markdown",
   "metadata": {},
   "source": [
    "## Quiz 19.27 - Entropy"
   ]
  },
  {
   "cell_type": "code",
   "execution_count": 5,
   "metadata": {},
   "outputs": [
    {
     "name": "stdout",
     "output_type": "stream",
     "text": [
      "0.918295834054\n",
      "0.688721875541\n",
      "0.311278124459\n"
     ]
    }
   ],
   "source": [
    "import scipy.stats\n",
    "\n",
    "entropy = scipy.stats.entropy([2,1],base=2)\n",
    "print(entropy)\n",
    "\n",
    "entropy_parent = 1.0\n",
    "entropy_children = 3/4*entropy\n",
    "print(entropy_children)\n",
    "\n",
    "print(entropy_parent-entropy_children)"
   ]
  },
  {
   "cell_type": "code",
   "execution_count": null,
   "metadata": {},
   "outputs": [],
   "source": []
  }
 ],
 "metadata": {
  "kernelspec": {
   "display_name": "Python [conda env:deepl35]",
   "language": "python",
   "name": "conda-env-deepl35-py"
  },
  "language_info": {
   "codemirror_mode": {
    "name": "ipython",
    "version": 3
   },
   "file_extension": ".py",
   "mimetype": "text/x-python",
   "name": "python",
   "nbconvert_exporter": "python",
   "pygments_lexer": "ipython3",
   "version": "3.5.4"
  }
 },
 "nbformat": 4,
 "nbformat_minor": 2
}
