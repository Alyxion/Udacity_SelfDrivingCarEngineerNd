{
 "cells": [
  {
   "cell_type": "markdown",
   "metadata": {},
   "source": [
    "### Dynamic Programming\n",
    "\n",
    "With help of a value grid we calculate the costs to the goal from every possible position so we can instantly decide in every situation which way or alternative way to go."
   ]
  },
  {
   "cell_type": "code",
   "execution_count": 16,
   "metadata": {},
   "outputs": [
    {
     "name": "stdout",
     "output_type": "stream",
     "text": [
      "[[11 99  7  6  5  4]\n",
      " [10 99  6  5  4  3]\n",
      " [ 9 99  5  4  3  2]\n",
      " [ 8 99  4  3  2  1]\n",
      " [ 7  6  5  4 99  0]]\n",
      "[['v' ' ' '>' '>' '>' 'v']\n",
      " ['v' ' ' '>' '>' '>' 'v']\n",
      " ['v' ' ' '>' '>' '>' 'v']\n",
      " ['v' ' ' '>' '>' '>' 'v']\n",
      " ['>' '>' '>' '^' ' ' '*']]\n"
     ]
    }
   ],
   "source": [
    "# ----------\n",
    "# User Instructions:\n",
    "# \n",
    "# Create a function compute_value which returns\n",
    "# a grid of values. The value of a cell is the minimum\n",
    "# number of moves required to get from the cell to the goal. \n",
    "#\n",
    "# If a cell is a wall or it is impossible to reach the goal from a cell,\n",
    "# assign that cell a value of 99.\n",
    "# ----------\n",
    "\n",
    "import numpy as np\n",
    "\n",
    "grid = [[0, 1, 0, 0, 0, 0],\n",
    "        [0, 1, 0, 0, 0, 0],\n",
    "        [0, 1, 0, 0, 0, 0],\n",
    "        [0, 1, 0, 0, 0, 0],\n",
    "        [0, 0, 0, 0, 1, 0]]\n",
    "\n",
    "\n",
    "grid2 = [[0, 1, 0, 0, 0, 0],\n",
    "        [0, 1, 0, 0, 0, 0],\n",
    "        [0, 1, 0, 0, 0, 0],\n",
    "        [0, 1, 0, 0, 0, 0],\n",
    "        [0, 0, 0, 0, 1, 0]]\n",
    "\n",
    "goal = [len(grid)-1, len(grid[0])-1]\n",
    "cost = 1 # the cost associated with moving from a cell to an adjacent one\n",
    "\n",
    "delta = [[-1, 0 ], # go up\n",
    "         [ 0, -1], # go left\n",
    "         [ 1, 0 ], # go down\n",
    "         [ 0, 1 ]] # go right\n",
    "\n",
    "delta_name = ['^', '<', 'v', '>']\n",
    "\n",
    "def compute_value_and_policy(grid,goal,cost):\n",
    "    # ----------------------------------------\n",
    "    # insert code below\n",
    "    # ----------------------------------------\n",
    "    \n",
    "    optimized = True\n",
    "    \n",
    "    width = len(grid[0])\n",
    "    height = len(grid)\n",
    "    \n",
    "    value = [[99 for j in range(width)] for i in range(height)];\n",
    "    policy = [[' ' for j in range(width)] for i in range(height)];\n",
    "    value[goal[0]][goal[1]] = 0\n",
    "    policy[goal[0]][goal[1]] = '*'\n",
    "    \n",
    "    while optimized:\n",
    "        optimized = False\n",
    "        for y in range(height):\n",
    "            for x in range(width):\n",
    "                base_costs = value[y][x]\n",
    "                for di in range(len(delta)):\n",
    "                    dt = delta[di]                    \n",
    "                    y2 = y+dt[0]\n",
    "                    x2 = x+dt[1]\n",
    "                    if x2<0 or y2<0 or x2>=width or y2>=height:\n",
    "                        continue\n",
    "                    if grid[y2][x2]==1:\n",
    "                        continue\n",
    "                    if value[y2][x2]>base_costs+cost:\n",
    "                        value[y2][x2] = base_costs+cost\n",
    "                        policy[y2][x2] = delta_name[(di+2)%4]\n",
    "                        optimized = True                    \n",
    "    \n",
    "    # make sure your function returns a grid of values as \n",
    "    # demonstrated in the previous video.\n",
    "    return value, policy\n",
    "\n",
    "def compute_value(grid,goal,cost):\n",
    "    value, policy = compute_value_and_policy(grid,goal,cost)\n",
    "    return value\n",
    "\n",
    "def optimum_policy(grid,goal,cost):\n",
    "    value, policy = compute_value_and_policy(grid,goal,cost)\n",
    "    return policy\n",
    "    \n",
    "print(np.array(compute_value(grid,goal,cost)))\n",
    "print(np.array(optimum_policy(grid2,goal,cost)))"
   ]
  },
  {
   "cell_type": "code",
   "execution_count": null,
   "metadata": {},
   "outputs": [],
   "source": []
  }
 ],
 "metadata": {
  "kernelspec": {
   "display_name": "Python 3",
   "language": "python",
   "name": "python3"
  },
  "language_info": {
   "codemirror_mode": {
    "name": "ipython",
    "version": 3
   },
   "file_extension": ".py",
   "mimetype": "text/x-python",
   "name": "python",
   "nbconvert_exporter": "python",
   "pygments_lexer": "ipython3",
   "version": "3.6.7"
  }
 },
 "nbformat": 4,
 "nbformat_minor": 2
}
